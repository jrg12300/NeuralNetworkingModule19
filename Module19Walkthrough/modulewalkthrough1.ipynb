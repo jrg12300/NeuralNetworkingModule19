{
 "cells": [
  {
   "cell_type": "code",
   "execution_count": 3,
   "metadata": {},
   "outputs": [],
   "source": [
    "# Import our dependencies\n",
    "import pandas as pd\n",
    "import matplotlib as plt\n",
    "from sklearn.datasets import make_blobs\n",
    "import sklearn as skl\n",
    "import tensorflow as tf"
   ]
  },
  {
   "cell_type": "code",
   "execution_count": 4,
   "metadata": {},
   "outputs": [
    {
     "data": {
      "text/plain": [
       "<AxesSubplot:xlabel='Feature 1', ylabel='Feature 2'>"
      ]
     },
     "execution_count": 4,
     "metadata": {},
     "output_type": "execute_result"
    },
    {
     "data": {
      "image/png": "[encoded data removed]",
      "text/plain": [
       "<Figure size 432x288 with 2 Axes>"
      ]
     },
     "metadata": {
      "needs_background": "light"
     },
     "output_type": "display_data"
    }
   ],
   "source": [
    "# Generate dummy dataset\n",
    "X, y = make_blobs(n_samples=1000, centers=2, n_features=2, random_state=78)\n",
    "\n",
    "# Creating a DataFrame with the dummy data\n",
    "df = pd.DataFrame(X, columns=[\"Feature 1\", \"Feature 2\"])\n",
    "df[\"Target\"] = y\n",
    "\n",
    "# Plotting the dummy data\n",
    "df.plot.scatter(x=\"Feature 1\", y=\"Feature 2\", c=\"Target\", colormap=\"winter\")"
   ]
  },
  {
   "cell_type": "code",
   "execution_count": 5,
   "metadata": {},
   "outputs": [],
   "source": [
    "# Use sklearn to split dataset\n",
    "from sklearn.model_selection import train_test_split\n",
    "X_train, X_test, y_train, y_test = train_test_split(X, y, random_state=78)"
   ]
  },
  {
   "cell_type": "code",
   "execution_count": 6,
   "metadata": {},
   "outputs": [],
   "source": [
    "# Create scaler instance\n",
    "X_scaler = skl.preprocessing.StandardScaler()\n",
    "\n",
    "# Fit the scaler\n",
    "X_scaler.fit(X_train)\n",
    "\n",
    "# Scale the data\n",
    "X_train_scaled = X_scaler.transform(X_train)\n",
    "X_test_scaled = X_scaler.transform(X_test)"
   ]
  },
  {
   "cell_type": "code",
   "execution_count": 7,
   "metadata": {},
   "outputs": [],
   "source": [
    "# Create the Keras Sequential model\n",
    "nn_model = tf.keras.models.Sequential()"
   ]
  },
  {
   "cell_type": "code",
   "execution_count": 8,
   "metadata": {},
   "outputs": [],
   "source": [
    "# Add our first Dense layer, including the input layer\n",
    "nn_model.add(tf.keras.layers.Dense(units=1, activation=\"relu\", input_dim=2))"
   ]
  },
  {
   "cell_type": "code",
   "execution_count": 9,
   "metadata": {},
   "outputs": [],
   "source": [
    "# Add the output layer that uses a probability activation function\n",
    "nn_model.add(tf.keras.layers.Dense(units=1, activation=\"sigmoid\"))"
   ]
  },
  {
   "cell_type": "code",
   "execution_count": 10,
   "metadata": {},
   "outputs": [
    {
     "name": "stdout",
     "output_type": "stream",
     "text": [
      "Model: \"sequential\"\n",
      "_________________________________________________________________\n",
      "Layer (type)                 Output Shape              Param #   \n",
      "=================================================================\n",
      "dense (Dense)                (None, 1)                 3         \n",
      "_________________________________________________________________\n",
      "dense_1 (Dense)              (None, 1)                 2         \n",
      "=================================================================\n",
      "Total params: 5\n",
      "Trainable params: 5\n",
      "Non-trainable params: 0\n",
      "_________________________________________________________________\n"
     ]
    }
   ],
   "source": [
    "# Check the structure of the Sequential model\n",
    "nn_model.summary()"
   ]
  },
  {
   "cell_type": "code",
   "execution_count": 11,
   "metadata": {},
   "outputs": [],
   "source": [
    "# Compile the Sequential model together and customize metrics\n",
    "nn_model.compile(loss=\"binary_crossentropy\", optimizer=\"adam\", metrics=[\"accuracy\"])"
   ]
  },
  {
   "cell_type": "code",
   "execution_count": 12,
   "metadata": {},
   "outputs": [
    {
     "name": "stdout",
     "output_type": "stream",
     "text": [
      "Epoch 1/100\n",
      "24/24 [==============================] - 0s 564us/step - loss: 0.4713 - accuracy: 0.9187\n",
      "Epoch 2/100\n",
      "24/24 [==============================] - 0s 477us/step - loss: 0.4617 - accuracy: 0.9227\n",
      "Epoch 3/100\n",
      "24/24 [==============================] - 0s 477us/step - loss: 0.4524 - accuracy: 0.9267\n",
      "Epoch 4/100\n",
      "24/24 [==============================] - 0s 564us/step - loss: 0.4432 - accuracy: 0.9347\n",
      "Epoch 5/100\n",
      "24/24 [==============================] - 0s 520us/step - loss: 0.4343 - accuracy: 0.9373\n",
      "Epoch 6/100\n",
      "24/24 [==============================] - 0s 520us/step - loss: 0.4256 - accuracy: 0.9387\n",
      "Epoch 7/100\n",
      "24/24 [==============================] - 0s 477us/step - loss: 0.4172 - accuracy: 0.9413\n",
      "Epoch 8/100\n",
      "24/24 [==============================] - 0s 477us/step - loss: 0.4090 - accuracy: 0.9413\n",
      "Epoch 9/100\n",
      "24/24 [==============================] - 0s 520us/step - loss: 0.4010 - accuracy: 0.9467\n",
      "Epoch 10/100\n",
      "24/24 [==============================] - 0s 520us/step - loss: 0.3931 - accuracy: 0.9467\n",
      "Epoch 11/100\n",
      "24/24 [==============================] - 0s 520us/step - loss: 0.3854 - accuracy: 0.9480\n",
      "Epoch 12/100\n",
      "24/24 [==============================] - 0s 564us/step - loss: 0.3779 - accuracy: 0.9493\n",
      "Epoch 13/100\n",
      "24/24 [==============================] - 0s 520us/step - loss: 0.3706 - accuracy: 0.9507\n",
      "Epoch 14/100\n",
      "24/24 [==============================] - 0s 520us/step - loss: 0.3632 - accuracy: 0.9507\n",
      "Epoch 15/100\n",
      "24/24 [==============================] - 0s 477us/step - loss: 0.3558 - accuracy: 0.9547\n",
      "Epoch 16/100\n",
      "24/24 [==============================] - 0s 564us/step - loss: 0.3487 - accuracy: 0.9547\n",
      "Epoch 17/100\n",
      "24/24 [==============================] - 0s 520us/step - loss: 0.3415 - accuracy: 0.9560\n",
      "Epoch 18/100\n",
      "24/24 [==============================] - 0s 564us/step - loss: 0.3344 - accuracy: 0.9587\n",
      "Epoch 19/100\n",
      "24/24 [==============================] - 0s 564us/step - loss: 0.3273 - accuracy: 0.9600\n",
      "Epoch 20/100\n",
      "24/24 [==============================] - 0s 564us/step - loss: 0.3203 - accuracy: 0.9653\n",
      "Epoch 21/100\n",
      "24/24 [==============================] - 0s 520us/step - loss: 0.3132 - accuracy: 0.9653\n",
      "Epoch 22/100\n",
      "24/24 [==============================] - 0s 521us/step - loss: 0.3063 - accuracy: 0.9680\n",
      "Epoch 23/100\n",
      "24/24 [==============================] - 0s 520us/step - loss: 0.2996 - accuracy: 0.9680\n",
      "Epoch 24/100\n",
      "24/24 [==============================] - 0s 477us/step - loss: 0.2930 - accuracy: 0.9707\n",
      "Epoch 25/100\n",
      "24/24 [==============================] - 0s 564us/step - loss: 0.2866 - accuracy: 0.9773\n",
      "Epoch 26/100\n",
      "24/24 [==============================] - 0s 520us/step - loss: 0.2802 - accuracy: 0.9800\n",
      "Epoch 27/100\n",
      "24/24 [==============================] - 0s 607us/step - loss: 0.2741 - accuracy: 0.9800\n",
      "Epoch 28/100\n",
      "24/24 [==============================] - 0s 520us/step - loss: 0.2681 - accuracy: 0.9813\n",
      "Epoch 29/100\n",
      "24/24 [==============================] - 0s 564us/step - loss: 0.2624 - accuracy: 0.9813\n",
      "Epoch 30/100\n",
      "24/24 [==============================] - 0s 630us/step - loss: 0.2568 - accuracy: 0.9813\n",
      "Epoch 31/100\n",
      "24/24 [==============================] - 0s 520us/step - loss: 0.2514 - accuracy: 0.9840\n",
      "Epoch 32/100\n",
      "24/24 [==============================] - 0s 477us/step - loss: 0.2460 - accuracy: 0.9853\n",
      "Epoch 33/100\n",
      "24/24 [==============================] - 0s 564us/step - loss: 0.2409 - accuracy: 0.9853\n",
      "Epoch 34/100\n",
      "24/24 [==============================] - 0s 520us/step - loss: 0.2357 - accuracy: 0.9853\n",
      "Epoch 35/100\n",
      "24/24 [==============================] - 0s 477us/step - loss: 0.2306 - accuracy: 0.9867\n",
      "Epoch 36/100\n",
      "24/24 [==============================] - 0s 564us/step - loss: 0.2257 - accuracy: 0.9867\n",
      "Epoch 37/100\n",
      "24/24 [==============================] - 0s 607us/step - loss: 0.2208 - accuracy: 0.9867\n",
      "Epoch 38/100\n",
      "24/24 [==============================] - 0s 564us/step - loss: 0.2161 - accuracy: 0.9880\n",
      "Epoch 39/100\n",
      "24/24 [==============================] - 0s 564us/step - loss: 0.2114 - accuracy: 0.9880\n",
      "Epoch 40/100\n",
      "24/24 [==============================] - 0s 520us/step - loss: 0.2069 - accuracy: 0.9880\n",
      "Epoch 41/100\n",
      "24/24 [==============================] - 0s 564us/step - loss: 0.2026 - accuracy: 0.9893\n",
      "Epoch 42/100\n",
      "24/24 [==============================] - 0s 520us/step - loss: 0.1984 - accuracy: 0.9907\n",
      "Epoch 43/100\n",
      "24/24 [==============================] - 0s 564us/step - loss: 0.1943 - accuracy: 0.9907\n",
      "Epoch 44/100\n",
      "24/24 [==============================] - 0s 520us/step - loss: 0.1903 - accuracy: 0.9947\n",
      "Epoch 45/100\n",
      "24/24 [==============================] - 0s 520us/step - loss: 0.1865 - accuracy: 0.9947\n",
      "Epoch 46/100\n",
      "24/24 [==============================] - 0s 564us/step - loss: 0.1828 - accuracy: 0.9947\n",
      "Epoch 47/100\n",
      "24/24 [==============================] - 0s 564us/step - loss: 0.1791 - accuracy: 0.9960\n",
      "Epoch 48/100\n",
      "24/24 [==============================] - 0s 607us/step - loss: 0.1757 - accuracy: 0.9960\n",
      "Epoch 49/100\n",
      "24/24 [==============================] - 0s 564us/step - loss: 0.1723 - accuracy: 0.9960\n",
      "Epoch 50/100\n",
      "24/24 [==============================] - 0s 564us/step - loss: 0.1690 - accuracy: 0.9960\n",
      "Epoch 51/100\n",
      "24/24 [==============================] - 0s 520us/step - loss: 0.1658 - accuracy: 0.9960\n",
      "Epoch 52/100\n",
      "24/24 [==============================] - 0s 520us/step - loss: 0.1627 - accuracy: 0.9973\n",
      "Epoch 53/100\n",
      "24/24 [==============================] - 0s 477us/step - loss: 0.1597 - accuracy: 0.9973\n",
      "Epoch 54/100\n",
      "24/24 [==============================] - 0s 520us/step - loss: 0.1567 - accuracy: 0.9973\n",
      "Epoch 55/100\n",
      "24/24 [==============================] - 0s 564us/step - loss: 0.1539 - accuracy: 0.9973\n",
      "Epoch 56/100\n",
      "24/24 [==============================] - 0s 650us/step - loss: 0.1510 - accuracy: 0.9987\n",
      "Epoch 57/100\n",
      "24/24 [==============================] - 0s 651us/step - loss: 0.1483 - accuracy: 0.9987\n",
      "Epoch 58/100\n",
      "24/24 [==============================] - 0s 520us/step - loss: 0.1456 - accuracy: 0.9987\n",
      "Epoch 59/100\n",
      "24/24 [==============================] - 0s 539us/step - loss: 0.1430 - accuracy: 0.9987\n",
      "Epoch 60/100\n",
      "24/24 [==============================] - 0s 564us/step - loss: 0.1405 - accuracy: 0.9987\n",
      "Epoch 61/100\n",
      "24/24 [==============================] - 0s 520us/step - loss: 0.1381 - accuracy: 1.0000\n",
      "Epoch 62/100\n",
      "24/24 [==============================] - 0s 477us/step - loss: 0.1357 - accuracy: 1.0000\n",
      "Epoch 63/100\n",
      "24/24 [==============================] - 0s 520us/step - loss: 0.1333 - accuracy: 1.0000\n",
      "Epoch 64/100\n",
      "24/24 [==============================] - 0s 520us/step - loss: 0.1311 - accuracy: 1.0000\n",
      "Epoch 65/100\n",
      "24/24 [==============================] - 0s 994us/step - loss: 0.1288 - accuracy: 1.0000\n",
      "Epoch 66/100\n",
      "24/24 [==============================] - 0s 477us/step - loss: 0.1267 - accuracy: 1.0000\n",
      "Epoch 67/100\n",
      "24/24 [==============================] - 0s 477us/step - loss: 0.1245 - accuracy: 1.0000\n",
      "Epoch 68/100\n",
      "24/24 [==============================] - 0s 477us/step - loss: 0.1225 - accuracy: 1.0000\n",
      "Epoch 69/100\n",
      "24/24 [==============================] - 0s 477us/step - loss: 0.1205 - accuracy: 1.0000\n",
      "Epoch 70/100\n",
      "24/24 [==============================] - 0s 520us/step - loss: 0.1185 - accuracy: 1.0000\n",
      "Epoch 71/100\n",
      "24/24 [==============================] - 0s 520us/step - loss: 0.1166 - accuracy: 1.0000\n",
      "Epoch 72/100\n",
      "24/24 [==============================] - 0s 564us/step - loss: 0.1147 - accuracy: 1.0000\n",
      "Epoch 73/100\n",
      "24/24 [==============================] - 0s 522us/step - loss: 0.1128 - accuracy: 1.0000\n",
      "Epoch 74/100\n",
      "24/24 [==============================] - 0s 477us/step - loss: 0.1111 - accuracy: 1.0000\n",
      "Epoch 75/100\n",
      "24/24 [==============================] - 0s 520us/step - loss: 0.1093 - accuracy: 1.0000\n",
      "Epoch 76/100\n",
      "24/24 [==============================] - 0s 477us/step - loss: 0.1076 - accuracy: 1.0000\n",
      "Epoch 77/100\n",
      "24/24 [==============================] - 0s 520us/step - loss: 0.1059 - accuracy: 1.0000\n",
      "Epoch 78/100\n",
      "24/24 [==============================] - 0s 477us/step - loss: 0.1043 - accuracy: 1.0000\n",
      "Epoch 79/100\n",
      "24/24 [==============================] - 0s 477us/step - loss: 0.1026 - accuracy: 1.0000\n",
      "Epoch 80/100\n",
      "24/24 [==============================] - 0s 474us/step - loss: 0.1011 - accuracy: 1.0000\n",
      "Epoch 81/100\n"
     ]
    },
    {
     "name": "stdout",
     "output_type": "stream",
     "text": [
      "24/24 [==============================] - 0s 477us/step - loss: 0.0995 - accuracy: 1.0000\n",
      "Epoch 82/100\n",
      "24/24 [==============================] - 0s 477us/step - loss: 0.0980 - accuracy: 1.0000\n",
      "Epoch 83/100\n",
      "24/24 [==============================] - 0s 520us/step - loss: 0.0965 - accuracy: 1.0000\n",
      "Epoch 84/100\n",
      "24/24 [==============================] - 0s 520us/step - loss: 0.0950 - accuracy: 1.0000\n",
      "Epoch 85/100\n",
      "24/24 [==============================] - 0s 477us/step - loss: 0.0936 - accuracy: 1.0000\n",
      "Epoch 86/100\n",
      "24/24 [==============================] - 0s 477us/step - loss: 0.0922 - accuracy: 1.0000\n",
      "Epoch 87/100\n",
      "24/24 [==============================] - 0s 477us/step - loss: 0.0908 - accuracy: 1.0000\n",
      "Epoch 88/100\n",
      "24/24 [==============================] - 0s 520us/step - loss: 0.0895 - accuracy: 1.0000\n",
      "Epoch 89/100\n",
      "24/24 [==============================] - 0s 520us/step - loss: 0.0882 - accuracy: 1.0000\n",
      "Epoch 90/100\n",
      "24/24 [==============================] - 0s 477us/step - loss: 0.0869 - accuracy: 1.0000\n",
      "Epoch 91/100\n",
      "24/24 [==============================] - 0s 477us/step - loss: 0.0856 - accuracy: 1.0000\n",
      "Epoch 92/100\n",
      "24/24 [==============================] - 0s 477us/step - loss: 0.0844 - accuracy: 1.0000\n",
      "Epoch 93/100\n",
      "24/24 [==============================] - 0s 520us/step - loss: 0.0831 - accuracy: 1.0000\n",
      "Epoch 94/100\n",
      "24/24 [==============================] - 0s 477us/step - loss: 0.0819 - accuracy: 1.0000\n",
      "Epoch 95/100\n",
      "24/24 [==============================] - 0s 520us/step - loss: 0.0808 - accuracy: 1.0000\n",
      "Epoch 96/100\n",
      "24/24 [==============================] - 0s 477us/step - loss: 0.0796 - accuracy: 1.0000\n",
      "Epoch 97/100\n",
      "24/24 [==============================] - 0s 520us/step - loss: 0.0785 - accuracy: 1.0000\n",
      "Epoch 98/100\n",
      "24/24 [==============================] - 0s 520us/step - loss: 0.0774 - accuracy: 1.0000\n",
      "Epoch 99/100\n",
      "24/24 [==============================] - 0s 564us/step - loss: 0.0763 - accuracy: 1.0000\n",
      "Epoch 100/100\n",
      "24/24 [==============================] - 0s 520us/step - loss: 0.0752 - accuracy: 1.0000\n"
     ]
    }
   ],
   "source": [
    "# Fit the model to the training data\n",
    "fit_model = nn_model.fit(X_train_scaled, y_train, epochs=100)"
   ]
  },
  {
   "cell_type": "code",
   "execution_count": 13,
   "metadata": {},
   "outputs": [
    {
     "data": {
      "text/plain": [
       "<AxesSubplot:>"
      ]
     },
     "execution_count": 13,
     "metadata": {},
     "output_type": "execute_result"
    },
    {
     "data": {
      "image/png": "[encoded data removed]",
      "text/plain": [
       "<Figure size 432x288 with 1 Axes>"
      ]
     },
     "metadata": {
      "needs_background": "light"
     },
     "output_type": "display_data"
    }
   ],
   "source": [
    "# Create a DataFrame containing training history\n",
    "history_df = pd.DataFrame(fit_model.history, index=range(1,len(fit_model.history[\"loss\"])+1))\n",
    "\n",
    "# Plot the loss\n",
    "history_df.plot(y=\"loss\")"
   ]
  },
  {
   "cell_type": "code",
   "execution_count": 14,
   "metadata": {},
   "outputs": [
    {
     "data": {
      "text/plain": [
       "<AxesSubplot:>"
      ]
     },
     "execution_count": 14,
     "metadata": {},
     "output_type": "execute_result"
    },
    {
     "data": {
      "image/png": "[encoded data removed]",
      "text/plain": [
       "<Figure size 432x288 with 1 Axes>"
      ]
     },
     "metadata": {
      "needs_background": "light"
     },
     "output_type": "display_data"
    }
   ],
   "source": [
    "# Plot the accuracy\n",
    "history_df.plot(y=\"accuracy\")"
   ]
  },
  {
   "cell_type": "code",
   "execution_count": 15,
   "metadata": {},
   "outputs": [
    {
     "name": "stdout",
     "output_type": "stream",
     "text": [
      "8/8 - 0s - loss: 0.0700 - accuracy: 1.0000\n",
      "Loss: 0.07003376632928848, Accuracy: 1.0\n"
     ]
    }
   ],
   "source": [
    "# Evaluate the model using the test data\n",
    "model_loss, model_accuracy = nn_model.evaluate(X_test_scaled,y_test,verbose=2)\n",
    "print(f\"Loss: {model_loss}, Accuracy: {model_accuracy}\")"
   ]
  },
  {
   "cell_type": "code",
   "execution_count": 16,
   "metadata": {},
   "outputs": [
    {
     "data": {
      "text/plain": [
       "array([[0],\n",
       "       [1],\n",
       "       [0],\n",
       "       [1],\n",
       "       [0],\n",
       "       [0],\n",
       "       [1],\n",
       "       [1],\n",
       "       [1],\n",
       "       [0]])"
      ]
     },
     "execution_count": 16,
     "metadata": {},
     "output_type": "execute_result"
    }
   ],
   "source": [
    "# Predict the classification of a new set of blob data\n",
    "new_X, new_Y = make_blobs(n_samples=10, centers=2, n_features=2, random_state=78)\n",
    "new_X_scaled = X_scaler.transform(new_X)\n",
    "(nn_model.predict(new_X_scaled) > 0.5).astype(\"int32\")"
   ]
  },
  {
   "cell_type": "code",
   "execution_count": 17,
   "metadata": {},
   "outputs": [
    {
     "data": {
      "text/plain": [
       "<AxesSubplot:xlabel='Feature 1', ylabel='Feature 2'>"
      ]
     },
     "execution_count": 17,
     "metadata": {},
     "output_type": "execute_result"
    },
    {
     "data": {
      "image/png": "[encoded data removed]",
      "text/plain": [
       "<Figure size 432x288 with 2 Axes>"
      ]
     },
     "metadata": {
      "needs_background": "light"
     },
     "output_type": "display_data"
    }
   ],
   "source": [
    "from sklearn.datasets import make_moons\n",
    "# Creating dummy nonlinear data\n",
    "X_moons, y_moons = make_moons(n_samples=1000, noise=0.08, random_state=78)\n",
    "# Transforming y_moons to a vertical vector\n",
    "y_moons = y_moons.reshape(-1, 1)\n",
    "# Creating a DataFrame to plot the nonlinear dummy data\n",
    "df_moons = pd.DataFrame(X_moons, columns=[\"Feature 1\", \"Feature 2\"])\n",
    "df_moons[\"Target\"] = y_moons\n",
    "# Plot the nonlinear dummy data\n",
    "df_moons.plot.scatter(x=\"Feature 1\",y=\"Feature 2\", c=\"Target\",colormap=\"winter\")"
   ]
  },
  {
   "cell_type": "code",
   "execution_count": 18,
   "metadata": {},
   "outputs": [],
   "source": [
    "# Create training and testing sets\n",
    "X_moon_train, X_moon_test, y_moon_train, y_moon_test = train_test_split(X_moons, y_moons, random_state=78)\n",
    "# Create the scaler instance\n",
    "X_moon_scaler = skl.preprocessing.StandardScaler()\n",
    "# Fit the scaler\n",
    "X_moon_scaler.fit(X_moon_train)\n",
    "# Scale the data\n",
    "X_moon_train_scaled = X_moon_scaler.transform(X_moon_train)\n",
    "X_moon_test_scaled = X_moon_scaler.transform(X_moon_test)"
   ]
  },
  {
   "cell_type": "code",
   "execution_count": 19,
   "metadata": {},
   "outputs": [
    {
     "name": "stdout",
     "output_type": "stream",
     "text": [
      "Epoch 1/100\n",
      "24/24 [==============================] - 0s 997us/step - loss: 1.1648 - accuracy: 0.4733\n",
      "Epoch 2/100\n",
      "24/24 [==============================] - 0s 1ms/step - loss: 0.9827 - accuracy: 0.5120\n",
      "Epoch 3/100\n",
      "24/24 [==============================] - 0s 1ms/step - loss: 0.8678 - accuracy: 0.5373\n",
      "Epoch 4/100\n",
      "24/24 [==============================] - 0s 997us/step - loss: 0.7954 - accuracy: 0.5680\n",
      "Epoch 5/100\n",
      "24/24 [==============================] - 0s 997us/step - loss: 0.7432 - accuracy: 0.5907\n",
      "Epoch 6/100\n",
      "24/24 [==============================] - 0s 997us/step - loss: 0.7031 - accuracy: 0.6027\n",
      "Epoch 7/100\n",
      "24/24 [==============================] - 0s 997us/step - loss: 0.6713 - accuracy: 0.6173\n",
      "Epoch 8/100\n",
      "24/24 [==============================] - 0s 954us/step - loss: 0.6450 - accuracy: 0.6307\n",
      "Epoch 9/100\n",
      "24/24 [==============================] - 0s 997us/step - loss: 0.6217 - accuracy: 0.6467\n",
      "Epoch 10/100\n",
      "24/24 [==============================] - 0s 997us/step - loss: 0.6015 - accuracy: 0.6560\n",
      "Epoch 11/100\n",
      "24/24 [==============================] - 0s 895us/step - loss: 0.5825 - accuracy: 0.6667\n",
      "Epoch 12/100\n",
      "24/24 [==============================] - 0s 955us/step - loss: 0.5650 - accuracy: 0.6773\n",
      "Epoch 13/100\n",
      "24/24 [==============================] - 0s 1ms/step - loss: 0.5482 - accuracy: 0.6960\n",
      "Epoch 14/100\n",
      "24/24 [==============================] - 0s 1ms/step - loss: 0.5320 - accuracy: 0.7120\n",
      "Epoch 15/100\n",
      "24/24 [==============================] - 0s 997us/step - loss: 0.5160 - accuracy: 0.7200\n",
      "Epoch 16/100\n",
      "24/24 [==============================] - 0s 1ms/step - loss: 0.5001 - accuracy: 0.7240\n",
      "Epoch 17/100\n",
      "24/24 [==============================] - 0s 1ms/step - loss: 0.4854 - accuracy: 0.7293\n",
      "Epoch 18/100\n",
      "24/24 [==============================] - 0s 911us/step - loss: 0.4710 - accuracy: 0.7373\n",
      "Epoch 19/100\n",
      "24/24 [==============================] - 0s 1ms/step - loss: 0.4571 - accuracy: 0.7467\n",
      "Epoch 20/100\n",
      "24/24 [==============================] - 0s 1ms/step - loss: 0.4439 - accuracy: 0.7560\n",
      "Epoch 21/100\n",
      "24/24 [==============================] - 0s 1ms/step - loss: 0.4315 - accuracy: 0.7627\n",
      "Epoch 22/100\n",
      "24/24 [==============================] - 0s 997us/step - loss: 0.4196 - accuracy: 0.7693\n",
      "Epoch 23/100\n",
      "24/24 [==============================] - 0s 954us/step - loss: 0.4083 - accuracy: 0.7733\n",
      "Epoch 24/100\n",
      "24/24 [==============================] - 0s 997us/step - loss: 0.3976 - accuracy: 0.7947\n",
      "Epoch 25/100\n",
      "24/24 [==============================] - 0s 1ms/step - loss: 0.3875 - accuracy: 0.8040\n",
      "Epoch 26/100\n",
      "24/24 [==============================] - 0s 911us/step - loss: 0.3780 - accuracy: 0.8067\n",
      "Epoch 27/100\n",
      "24/24 [==============================] - 0s 1ms/step - loss: 0.3692 - accuracy: 0.8133\n",
      "Epoch 28/100\n",
      "24/24 [==============================] - 0s 911us/step - loss: 0.3610 - accuracy: 0.8160\n",
      "Epoch 29/100\n",
      "24/24 [==============================] - 0s 911us/step - loss: 0.3535 - accuracy: 0.8200\n",
      "Epoch 30/100\n",
      "24/24 [==============================] - 0s 999us/step - loss: 0.3465 - accuracy: 0.8267\n",
      "Epoch 31/100\n",
      "24/24 [==============================] - 0s 981us/step - loss: 0.3400 - accuracy: 0.8307\n",
      "Epoch 32/100\n",
      "24/24 [==============================] - 0s 911us/step - loss: 0.3343 - accuracy: 0.8347\n",
      "Epoch 33/100\n",
      "24/24 [==============================] - 0s 1ms/step - loss: 0.3292 - accuracy: 0.8427\n",
      "Epoch 34/100\n",
      "24/24 [==============================] - 0s 998us/step - loss: 0.3247 - accuracy: 0.8467\n",
      "Epoch 35/100\n",
      "24/24 [==============================] - 0s 999us/step - loss: 0.3209 - accuracy: 0.8507\n",
      "Epoch 36/100\n",
      "24/24 [==============================] - 0s 997us/step - loss: 0.3174 - accuracy: 0.8573\n",
      "Epoch 37/100\n",
      "24/24 [==============================] - 0s 1ms/step - loss: 0.3143 - accuracy: 0.8600\n",
      "Epoch 38/100\n",
      "24/24 [==============================] - 0s 1ms/step - loss: 0.3115 - accuracy: 0.8653\n",
      "Epoch 39/100\n",
      "24/24 [==============================] - 0s 1ms/step - loss: 0.3091 - accuracy: 0.8680\n",
      "Epoch 40/100\n",
      "24/24 [==============================] - 0s 1ms/step - loss: 0.3067 - accuracy: 0.8680\n",
      "Epoch 41/100\n",
      "24/24 [==============================] - 0s 1ms/step - loss: 0.3047 - accuracy: 0.8707\n",
      "Epoch 42/100\n",
      "24/24 [==============================] - 0s 1ms/step - loss: 0.3028 - accuracy: 0.8707\n",
      "Epoch 43/100\n",
      "24/24 [==============================] - 0s 1ms/step - loss: 0.3009 - accuracy: 0.8707\n",
      "Epoch 44/100\n",
      "24/24 [==============================] - 0s 997us/step - loss: 0.2992 - accuracy: 0.8707\n",
      "Epoch 45/100\n",
      "24/24 [==============================] - 0s 997us/step - loss: 0.2976 - accuracy: 0.8733\n",
      "Epoch 46/100\n",
      "24/24 [==============================] - 0s 1ms/step - loss: 0.2961 - accuracy: 0.8733\n",
      "Epoch 47/100\n",
      "24/24 [==============================] - 0s 997us/step - loss: 0.2947 - accuracy: 0.8733\n",
      "Epoch 48/100\n",
      "24/24 [==============================] - 0s 1ms/step - loss: 0.2933 - accuracy: 0.8733\n",
      "Epoch 49/100\n",
      "24/24 [==============================] - 0s 1ms/step - loss: 0.2919 - accuracy: 0.8733\n",
      "Epoch 50/100\n",
      "24/24 [==============================] - 0s 824us/step - loss: 0.2907 - accuracy: 0.8760\n",
      "Epoch 51/100\n",
      "24/24 [==============================] - 0s 997us/step - loss: 0.2896 - accuracy: 0.8787\n",
      "Epoch 52/100\n",
      "24/24 [==============================] - 0s 1ms/step - loss: 0.2883 - accuracy: 0.8800\n",
      "Epoch 53/100\n",
      "24/24 [==============================] - 0s 1ms/step - loss: 0.2873 - accuracy: 0.8813\n",
      "Epoch 54/100\n",
      "24/24 [==============================] - 0s 911us/step - loss: 0.2862 - accuracy: 0.8827\n",
      "Epoch 55/100\n",
      "24/24 [==============================] - 0s 1ms/step - loss: 0.2851 - accuracy: 0.8827\n",
      "Epoch 56/100\n",
      "24/24 [==============================] - 0s 997us/step - loss: 0.2841 - accuracy: 0.8840\n",
      "Epoch 57/100\n",
      "24/24 [==============================] - 0s 911us/step - loss: 0.2832 - accuracy: 0.8853\n",
      "Epoch 58/100\n",
      "24/24 [==============================] - 0s 867us/step - loss: 0.2824 - accuracy: 0.8853\n",
      "Epoch 59/100\n",
      "24/24 [==============================] - 0s 954us/step - loss: 0.2814 - accuracy: 0.8853\n",
      "Epoch 60/100\n",
      "24/24 [==============================] - 0s 824us/step - loss: 0.2807 - accuracy: 0.8867\n",
      "Epoch 61/100\n",
      "24/24 [==============================] - 0s 997us/step - loss: 0.2799 - accuracy: 0.8893\n",
      "Epoch 62/100\n",
      "24/24 [==============================] - 0s 954us/step - loss: 0.2791 - accuracy: 0.8907\n",
      "Epoch 63/100\n",
      "24/24 [==============================] - 0s 954us/step - loss: 0.2783 - accuracy: 0.8907\n",
      "Epoch 64/100\n",
      "24/24 [==============================] - 0s 954us/step - loss: 0.2776 - accuracy: 0.8907\n",
      "Epoch 65/100\n",
      "24/24 [==============================] - 0s 954us/step - loss: 0.2768 - accuracy: 0.8920\n",
      "Epoch 66/100\n",
      "24/24 [==============================] - 0s 954us/step - loss: 0.2762 - accuracy: 0.8920\n",
      "Epoch 67/100\n",
      "24/24 [==============================] - 0s 867us/step - loss: 0.2756 - accuracy: 0.8920\n",
      "Epoch 68/100\n",
      "24/24 [==============================] - 0s 1ms/step - loss: 0.2750 - accuracy: 0.8933\n",
      "Epoch 69/100\n",
      "24/24 [==============================] - 0s 827us/step - loss: 0.2743 - accuracy: 0.8933\n",
      "Epoch 70/100\n",
      "24/24 [==============================] - 0s 867us/step - loss: 0.2738 - accuracy: 0.8933\n",
      "Epoch 71/100\n",
      "24/24 [==============================] - 0s 824us/step - loss: 0.2731 - accuracy: 0.8933\n",
      "Epoch 72/100\n",
      "24/24 [==============================] - 0s 911us/step - loss: 0.2726 - accuracy: 0.8933\n",
      "Epoch 73/100\n",
      "24/24 [==============================] - 0s 954us/step - loss: 0.2720 - accuracy: 0.8933\n",
      "Epoch 74/100\n",
      "24/24 [==============================] - 0s 911us/step - loss: 0.2716 - accuracy: 0.8933\n",
      "Epoch 75/100\n",
      "24/24 [==============================] - 0s 910us/step - loss: 0.2710 - accuracy: 0.8933\n",
      "Epoch 76/100\n",
      "24/24 [==============================] - 0s 911us/step - loss: 0.2705 - accuracy: 0.8933\n",
      "Epoch 77/100\n",
      "24/24 [==============================] - 0s 911us/step - loss: 0.2700 - accuracy: 0.8920\n",
      "Epoch 78/100\n",
      "24/24 [==============================] - 0s 824us/step - loss: 0.2696 - accuracy: 0.8920\n",
      "Epoch 79/100\n",
      "24/24 [==============================] - 0s 954us/step - loss: 0.2692 - accuracy: 0.8920\n",
      "Epoch 80/100\n",
      "24/24 [==============================] - 0s 1ms/step - loss: 0.2687 - accuracy: 0.8920\n",
      "Epoch 81/100\n",
      "24/24 [==============================] - 0s 1ms/step - loss: 0.2682 - accuracy: 0.8920\n"
     ]
    },
    {
     "name": "stdout",
     "output_type": "stream",
     "text": [
      "Epoch 82/100\n",
      "24/24 [==============================] - 0s 997us/step - loss: 0.2678 - accuracy: 0.8920\n",
      "Epoch 83/100\n",
      "24/24 [==============================] - 0s 867us/step - loss: 0.2674 - accuracy: 0.8907\n",
      "Epoch 84/100\n",
      "24/24 [==============================] - 0s 887us/step - loss: 0.2670 - accuracy: 0.8907\n",
      "Epoch 85/100\n",
      "24/24 [==============================] - 0s 954us/step - loss: 0.2666 - accuracy: 0.8907\n",
      "Epoch 86/100\n",
      "24/24 [==============================] - 0s 867us/step - loss: 0.2663 - accuracy: 0.8907\n",
      "Epoch 87/100\n",
      "24/24 [==============================] - 0s 867us/step - loss: 0.2659 - accuracy: 0.8907\n",
      "Epoch 88/100\n",
      "24/24 [==============================] - 0s 824us/step - loss: 0.2655 - accuracy: 0.8920\n",
      "Epoch 89/100\n",
      "24/24 [==============================] - 0s 911us/step - loss: 0.2652 - accuracy: 0.8920\n",
      "Epoch 90/100\n",
      "24/24 [==============================] - 0s 954us/step - loss: 0.2649 - accuracy: 0.8920\n",
      "Epoch 91/100\n",
      "24/24 [==============================] - 0s 867us/step - loss: 0.2645 - accuracy: 0.8920\n",
      "Epoch 92/100\n",
      "24/24 [==============================] - 0s 824us/step - loss: 0.2642 - accuracy: 0.8920\n",
      "Epoch 93/100\n",
      "24/24 [==============================] - 0s 781us/step - loss: 0.2640 - accuracy: 0.8920\n",
      "Epoch 94/100\n",
      "24/24 [==============================] - 0s 911us/step - loss: 0.2637 - accuracy: 0.8920\n",
      "Epoch 95/100\n",
      "24/24 [==============================] - 0s 911us/step - loss: 0.2634 - accuracy: 0.8920\n",
      "Epoch 96/100\n",
      "24/24 [==============================] - 0s 867us/step - loss: 0.2632 - accuracy: 0.8920\n",
      "Epoch 97/100\n",
      "24/24 [==============================] - 0s 781us/step - loss: 0.2628 - accuracy: 0.8920\n",
      "Epoch 98/100\n",
      "24/24 [==============================] - 0s 867us/step - loss: 0.2627 - accuracy: 0.8920\n",
      "Epoch 99/100\n",
      "24/24 [==============================] - 0s 911us/step - loss: 0.2624 - accuracy: 0.8920\n",
      "Epoch 100/100\n",
      "24/24 [==============================] - 0s 782us/step - loss: 0.2622 - accuracy: 0.8920\n"
     ]
    }
   ],
   "source": [
    "# Training the model with the nonlinear data\n",
    "model_moon = nn_model.fit(X_moon_train_scaled, y_moon_train, epochs=100, shuffle=True)"
   ]
  },
  {
   "cell_type": "code",
   "execution_count": 20,
   "metadata": {},
   "outputs": [
    {
     "data": {
      "text/plain": [
       "<AxesSubplot:>"
      ]
     },
     "execution_count": 20,
     "metadata": {},
     "output_type": "execute_result"
    },
    {
     "data": {
      "image/png": "[encoded data removed]",
      "text/plain": [
       "<Figure size 432x288 with 1 Axes>"
      ]
     },
     "metadata": {
      "needs_background": "light"
     },
     "output_type": "display_data"
    }
   ],
   "source": [
    "# Create a DataFrame containing training history\n",
    "history_df = pd.DataFrame(model_moon.history, index=range(1,len(model_moon.history[\"loss\"])+1))\n",
    "# Plot the loss\n",
    "history_df.plot(y=\"loss\")"
   ]
  },
  {
   "cell_type": "code",
   "execution_count": 21,
   "metadata": {},
   "outputs": [
    {
     "data": {
      "text/plain": [
       "<AxesSubplot:>"
      ]
     },
     "execution_count": 21,
     "metadata": {},
     "output_type": "execute_result"
    },
    {
     "data": {
      "image/png": "[encoded data removed]",
      "text/plain": [
       "<Figure size 432x288 with 1 Axes>"
      ]
     },
     "metadata": {
      "needs_background": "light"
     },
     "output_type": "display_data"
    }
   ],
   "source": [
    "# Plot the loss\n",
    "history_df.plot(y=\"accuracy\")"
   ]
  },
  {
   "cell_type": "code",
   "execution_count": 22,
   "metadata": {},
   "outputs": [],
   "source": [
    "# Generate our new Sequential model\n",
    "new_model = tf.keras.models.Sequential()"
   ]
  },
  {
   "cell_type": "code",
   "execution_count": 23,
   "metadata": {},
   "outputs": [],
   "source": [
    "# Add the input and hidden layer\n",
    "number_inputs = 2\n",
    "number_hidden_nodes = 6\n",
    "\n",
    "new_model.add(tf.keras.layers.Dense(units=number_hidden_nodes, activation=\"relu\", input_dim=number_inputs))\n",
    "\n",
    "# Add the output layer that uses a probability activation function\n",
    "new_model.add(tf.keras.layers.Dense(units=1, activation=\"sigmoid\"))"
   ]
  },
  {
   "cell_type": "code",
   "execution_count": 24,
   "metadata": {},
   "outputs": [
    {
     "name": "stdout",
     "output_type": "stream",
     "text": [
      "Epoch 1/100\n",
      "24/24 [==============================] - 0s 739us/step - loss: 0.8709 - accuracy: 0.3200\n",
      "Epoch 2/100\n",
      "24/24 [==============================] - 0s 737us/step - loss: 0.8180 - accuracy: 0.4427\n",
      "Epoch 3/100\n",
      "24/24 [==============================] - 0s 650us/step - loss: 0.7714 - accuracy: 0.5107\n",
      "Epoch 4/100\n",
      "24/24 [==============================] - 0s 650us/step - loss: 0.7308 - accuracy: 0.5413\n",
      "Epoch 5/100\n",
      "24/24 [==============================] - 0s 650us/step - loss: 0.6952 - accuracy: 0.5787\n",
      "Epoch 6/100\n",
      "24/24 [==============================] - 0s 650us/step - loss: 0.6629 - accuracy: 0.6187\n",
      "Epoch 7/100\n",
      "24/24 [==============================] - 0s 694us/step - loss: 0.6344 - accuracy: 0.6573\n",
      "Epoch 8/100\n",
      "24/24 [==============================] - 0s 650us/step - loss: 0.6082 - accuracy: 0.6827\n",
      "Epoch 9/100\n",
      "24/24 [==============================] - 0s 564us/step - loss: 0.5843 - accuracy: 0.7040\n",
      "Epoch 10/100\n",
      "24/24 [==============================] - 0s 564us/step - loss: 0.5627 - accuracy: 0.7160\n",
      "Epoch 11/100\n",
      "24/24 [==============================] - 0s 694us/step - loss: 0.5425 - accuracy: 0.7107\n",
      "Epoch 12/100\n",
      "24/24 [==============================] - 0s 780us/step - loss: 0.5236 - accuracy: 0.7093\n",
      "Epoch 13/100\n",
      "24/24 [==============================] - 0s 650us/step - loss: 0.5061 - accuracy: 0.7293\n",
      "Epoch 14/100\n",
      "24/24 [==============================] - 0s 607us/step - loss: 0.4895 - accuracy: 0.7440\n",
      "Epoch 15/100\n",
      "24/24 [==============================] - 0s 694us/step - loss: 0.4738 - accuracy: 0.7587\n",
      "Epoch 16/100\n",
      "24/24 [==============================] - 0s 781us/step - loss: 0.4586 - accuracy: 0.7773\n",
      "Epoch 17/100\n",
      "24/24 [==============================] - 0s 667us/step - loss: 0.4439 - accuracy: 0.8360\n",
      "Epoch 18/100\n",
      "24/24 [==============================] - 0s 737us/step - loss: 0.4294 - accuracy: 0.8880\n",
      "Epoch 19/100\n",
      "24/24 [==============================] - 0s 694us/step - loss: 0.4157 - accuracy: 0.8920\n",
      "Epoch 20/100\n",
      "24/24 [==============================] - 0s 650us/step - loss: 0.4024 - accuracy: 0.8920\n",
      "Epoch 21/100\n",
      "24/24 [==============================] - 0s 607us/step - loss: 0.3898 - accuracy: 0.8920\n",
      "Epoch 22/100\n",
      "24/24 [==============================] - 0s 694us/step - loss: 0.3779 - accuracy: 0.8933\n",
      "Epoch 23/100\n",
      "24/24 [==============================] - 0s 694us/step - loss: 0.3667 - accuracy: 0.8933\n",
      "Epoch 24/100\n",
      "24/24 [==============================] - 0s 650us/step - loss: 0.3566 - accuracy: 0.8933\n",
      "Epoch 25/100\n",
      "24/24 [==============================] - 0s 694us/step - loss: 0.3468 - accuracy: 0.8920\n",
      "Epoch 26/100\n",
      "24/24 [==============================] - 0s 607us/step - loss: 0.3380 - accuracy: 0.8920\n",
      "Epoch 27/100\n",
      "24/24 [==============================] - 0s 650us/step - loss: 0.3294 - accuracy: 0.8907\n",
      "Epoch 28/100\n",
      "24/24 [==============================] - 0s 650us/step - loss: 0.3215 - accuracy: 0.8880\n",
      "Epoch 29/100\n",
      "24/24 [==============================] - 0s 650us/step - loss: 0.3144 - accuracy: 0.8880\n",
      "Epoch 30/100\n",
      "24/24 [==============================] - 0s 737us/step - loss: 0.3079 - accuracy: 0.8893\n",
      "Epoch 31/100\n",
      "24/24 [==============================] - 0s 650us/step - loss: 0.3019 - accuracy: 0.8880\n",
      "Epoch 32/100\n",
      "24/24 [==============================] - 0s 650us/step - loss: 0.2970 - accuracy: 0.8880\n",
      "Epoch 33/100\n",
      "24/24 [==============================] - 0s 562us/step - loss: 0.2924 - accuracy: 0.8880\n",
      "Epoch 34/100\n",
      "24/24 [==============================] - 0s 737us/step - loss: 0.2885 - accuracy: 0.8880\n",
      "Epoch 35/100\n",
      "24/24 [==============================] - 0s 607us/step - loss: 0.2850 - accuracy: 0.8880\n",
      "Epoch 36/100\n",
      "24/24 [==============================] - 0s 651us/step - loss: 0.2818 - accuracy: 0.8880\n",
      "Epoch 37/100\n",
      "24/24 [==============================] - 0s 650us/step - loss: 0.2790 - accuracy: 0.8867\n",
      "Epoch 38/100\n",
      "24/24 [==============================] - 0s 650us/step - loss: 0.2765 - accuracy: 0.8867\n",
      "Epoch 39/100\n",
      "24/24 [==============================] - 0s 650us/step - loss: 0.2742 - accuracy: 0.8880\n",
      "Epoch 40/100\n",
      "24/24 [==============================] - 0s 650us/step - loss: 0.2726 - accuracy: 0.8880\n",
      "Epoch 41/100\n",
      "24/24 [==============================] - 0s 650us/step - loss: 0.2705 - accuracy: 0.8880\n",
      "Epoch 42/100\n",
      "24/24 [==============================] - 0s 607us/step - loss: 0.2689 - accuracy: 0.8880\n",
      "Epoch 43/100\n",
      "24/24 [==============================] - 0s 564us/step - loss: 0.2674 - accuracy: 0.8893\n",
      "Epoch 44/100\n",
      "24/24 [==============================] - 0s 694us/step - loss: 0.2661 - accuracy: 0.8920\n",
      "Epoch 45/100\n",
      "24/24 [==============================] - 0s 694us/step - loss: 0.2648 - accuracy: 0.8907\n",
      "Epoch 46/100\n",
      "24/24 [==============================] - 0s 650us/step - loss: 0.2637 - accuracy: 0.8907\n",
      "Epoch 47/100\n",
      "24/24 [==============================] - 0s 650us/step - loss: 0.2627 - accuracy: 0.8907\n",
      "Epoch 48/100\n",
      "24/24 [==============================] - 0s 650us/step - loss: 0.2618 - accuracy: 0.8907\n",
      "Epoch 49/100\n",
      "24/24 [==============================] - 0s 650us/step - loss: 0.2609 - accuracy: 0.8907\n",
      "Epoch 50/100\n",
      "24/24 [==============================] - 0s 607us/step - loss: 0.2600 - accuracy: 0.8920\n",
      "Epoch 51/100\n",
      "24/24 [==============================] - 0s 650us/step - loss: 0.2592 - accuracy: 0.8920\n",
      "Epoch 52/100\n",
      "24/24 [==============================] - 0s 650us/step - loss: 0.2585 - accuracy: 0.8920\n",
      "Epoch 53/100\n",
      "24/24 [==============================] - 0s 694us/step - loss: 0.2579 - accuracy: 0.8920\n",
      "Epoch 54/100\n",
      "24/24 [==============================] - 0s 694us/step - loss: 0.2573 - accuracy: 0.8920\n",
      "Epoch 55/100\n",
      "24/24 [==============================] - 0s 607us/step - loss: 0.2568 - accuracy: 0.8920\n",
      "Epoch 56/100\n",
      "24/24 [==============================] - 0s 520us/step - loss: 0.2563 - accuracy: 0.8907\n",
      "Epoch 57/100\n",
      "24/24 [==============================] - 0s 559us/step - loss: 0.2559 - accuracy: 0.8907\n",
      "Epoch 58/100\n",
      "24/24 [==============================] - 0s 541us/step - loss: 0.2555 - accuracy: 0.8907\n",
      "Epoch 59/100\n",
      "24/24 [==============================] - 0s 564us/step - loss: 0.2553 - accuracy: 0.8893\n",
      "Epoch 60/100\n",
      "24/24 [==============================] - 0s 650us/step - loss: 0.2548 - accuracy: 0.8907\n",
      "Epoch 61/100\n",
      "24/24 [==============================] - 0s 607us/step - loss: 0.2546 - accuracy: 0.8907\n",
      "Epoch 62/100\n",
      "24/24 [==============================] - 0s 607us/step - loss: 0.2542 - accuracy: 0.8907\n",
      "Epoch 63/100\n",
      "24/24 [==============================] - 0s 650us/step - loss: 0.2539 - accuracy: 0.8907\n",
      "Epoch 64/100\n",
      "24/24 [==============================] - 0s 607us/step - loss: 0.2536 - accuracy: 0.8907\n",
      "Epoch 65/100\n",
      "24/24 [==============================] - 0s 607us/step - loss: 0.2533 - accuracy: 0.8907\n",
      "Epoch 66/100\n",
      "24/24 [==============================] - 0s 564us/step - loss: 0.2531 - accuracy: 0.8907\n",
      "Epoch 67/100\n",
      "24/24 [==============================] - 0s 564us/step - loss: 0.2528 - accuracy: 0.8893\n",
      "Epoch 68/100\n",
      "24/24 [==============================] - 0s 607us/step - loss: 0.2526 - accuracy: 0.8907\n",
      "Epoch 69/100\n",
      "24/24 [==============================] - 0s 607us/step - loss: 0.2523 - accuracy: 0.8907\n",
      "Epoch 70/100\n",
      "24/24 [==============================] - 0s 610us/step - loss: 0.2521 - accuracy: 0.8907\n",
      "Epoch 71/100\n",
      "24/24 [==============================] - 0s 607us/step - loss: 0.2521 - accuracy: 0.8880\n",
      "Epoch 72/100\n",
      "24/24 [==============================] - 0s 650us/step - loss: 0.2518 - accuracy: 0.8880\n",
      "Epoch 73/100\n",
      "24/24 [==============================] - 0s 564us/step - loss: 0.2516 - accuracy: 0.8893\n",
      "Epoch 74/100\n",
      "24/24 [==============================] - 0s 650us/step - loss: 0.2514 - accuracy: 0.8893\n",
      "Epoch 75/100\n",
      "24/24 [==============================] - ETA: 0s - loss: 0.2818 - accuracy: 0.90 - 0s 607us/step - loss: 0.2513 - accuracy: 0.8893\n",
      "Epoch 76/100\n",
      "24/24 [==============================] - 0s 650us/step - loss: 0.2510 - accuracy: 0.8893\n",
      "Epoch 77/100\n",
      "24/24 [==============================] - 0s 629us/step - loss: 0.2509 - accuracy: 0.8893\n",
      "Epoch 78/100\n",
      "24/24 [==============================] - 0s 607us/step - loss: 0.2508 - accuracy: 0.8893\n",
      "Epoch 79/100\n",
      "24/24 [==============================] - 0s 607us/step - loss: 0.2506 - accuracy: 0.8893\n",
      "Epoch 80/100\n",
      "24/24 [==============================] - 0s 650us/step - loss: 0.2505 - accuracy: 0.8893\n"
     ]
    },
    {
     "name": "stdout",
     "output_type": "stream",
     "text": [
      "Epoch 81/100\n",
      "24/24 [==============================] - 0s 607us/step - loss: 0.2504 - accuracy: 0.8893\n",
      "Epoch 82/100\n",
      "24/24 [==============================] - 0s 607us/step - loss: 0.2503 - accuracy: 0.8893\n",
      "Epoch 83/100\n",
      "24/24 [==============================] - 0s 607us/step - loss: 0.2501 - accuracy: 0.8893\n",
      "Epoch 84/100\n",
      "24/24 [==============================] - 0s 564us/step - loss: 0.2500 - accuracy: 0.8893\n",
      "Epoch 85/100\n",
      "24/24 [==============================] - 0s 564us/step - loss: 0.2501 - accuracy: 0.8893\n",
      "Epoch 86/100\n",
      "24/24 [==============================] - 0s 564us/step - loss: 0.2499 - accuracy: 0.8907\n",
      "Epoch 87/100\n",
      "24/24 [==============================] - 0s 564us/step - loss: 0.2497 - accuracy: 0.8893\n",
      "Epoch 88/100\n",
      "24/24 [==============================] - 0s 564us/step - loss: 0.2496 - accuracy: 0.8893\n",
      "Epoch 89/100\n",
      "24/24 [==============================] - 0s 477us/step - loss: 0.2496 - accuracy: 0.8893\n",
      "Epoch 90/100\n",
      "24/24 [==============================] - 0s 477us/step - loss: 0.2495 - accuracy: 0.8893\n",
      "Epoch 91/100\n",
      "24/24 [==============================] - ETA: 0s - loss: 0.3314 - accuracy: 0.81 - 0s 520us/step - loss: 0.2493 - accuracy: 0.8893\n",
      "Epoch 92/100\n",
      "24/24 [==============================] - 0s 564us/step - loss: 0.2494 - accuracy: 0.8893\n",
      "Epoch 93/100\n",
      "24/24 [==============================] - 0s 564us/step - loss: 0.2492 - accuracy: 0.8893\n",
      "Epoch 94/100\n",
      "24/24 [==============================] - 0s 607us/step - loss: 0.2491 - accuracy: 0.8893\n",
      "Epoch 95/100\n",
      "24/24 [==============================] - 0s 607us/step - loss: 0.2492 - accuracy: 0.8893\n",
      "Epoch 96/100\n",
      "24/24 [==============================] - 0s 607us/step - loss: 0.2490 - accuracy: 0.8907\n",
      "Epoch 97/100\n",
      "24/24 [==============================] - 0s 520us/step - loss: 0.2488 - accuracy: 0.8907\n",
      "Epoch 98/100\n",
      "24/24 [==============================] - 0s 520us/step - loss: 0.2488 - accuracy: 0.8907\n",
      "Epoch 99/100\n",
      "24/24 [==============================] - 0s 564us/step - loss: 0.2487 - accuracy: 0.8907\n",
      "Epoch 100/100\n",
      "24/24 [==============================] - 0s 477us/step - loss: 0.2487 - accuracy: 0.8893\n"
     ]
    }
   ],
   "source": [
    "# Compile the Sequential model together and customize metrics\n",
    "new_model.compile(loss=\"binary_crossentropy\", optimizer=\"adam\", metrics=[\"accuracy\"])\n",
    "\n",
    "# Fit the model to the training data\n",
    "new_fit_model = new_model.fit(X_moon_train_scaled, y_moon_train, epochs=100, shuffle=True)"
   ]
  },
  {
   "cell_type": "code",
   "execution_count": null,
   "metadata": {},
   "outputs": [],
   "source": []
  },
  {
   "cell_type": "code",
   "execution_count": null,
   "metadata": {},
   "outputs": [],
   "source": []
  },
  {
   "cell_type": "code",
   "execution_count": null,
   "metadata": {},
   "outputs": [],
   "source": []
  },
  {
   "cell_type": "code",
   "execution_count": null,
   "metadata": {},
   "outputs": [],
   "source": []
  },
  {
   "cell_type": "code",
   "execution_count": null,
   "metadata": {},
   "outputs": [],
   "source": []
  },
  {
   "cell_type": "code",
   "execution_count": null,
   "metadata": {},
   "outputs": [],
   "source": []
  },
  {
   "cell_type": "code",
   "execution_count": null,
   "metadata": {},
   "outputs": [],
   "source": []
  },
  {
   "cell_type": "code",
   "execution_count": null,
   "metadata": {},
   "outputs": [],
   "source": []
  },
  {
   "cell_type": "code",
   "execution_count": null,
   "metadata": {},
   "outputs": [],
   "source": []
  },
  {
   "cell_type": "code",
   "execution_count": null,
   "metadata": {},
   "outputs": [],
   "source": []
  },
  {
   "cell_type": "code",
   "execution_count": null,
   "metadata": {},
   "outputs": [],
   "source": []
  },
  {
   "cell_type": "code",
   "execution_count": null,
   "metadata": {},
   "outputs": [],
   "source": []
  },
  {
   "cell_type": "code",
   "execution_count": null,
   "metadata": {},
   "outputs": [],
   "source": []
  },
  {
   "cell_type": "code",
   "execution_count": null,
   "metadata": {},
   "outputs": [],
   "source": []
  },
  {
   "cell_type": "code",
   "execution_count": null,
   "metadata": {},
   "outputs": [],
   "source": []
  },
  {
   "cell_type": "code",
   "execution_count": null,
   "metadata": {},
   "outputs": [],
   "source": []
  },
  {
   "cell_type": "code",
   "execution_count": null,
   "metadata": {},
   "outputs": [],
   "source": []
  },
  {
   "cell_type": "code",
   "execution_count": null,
   "metadata": {},
   "outputs": [],
   "source": []
  },
  {
   "cell_type": "code",
   "execution_count": null,
   "metadata": {},
   "outputs": [],
   "source": []
  },
  {
   "cell_type": "code",
   "execution_count": null,
   "metadata": {},
   "outputs": [],
   "source": []
  }
 ],
 "metadata": {
  "kernelspec": {
   "display_name": "mlenv",
   "language": "python",
   "name": "mlenv"
  },
  "language_info": {
   "codemirror_mode": {
    "name": "ipython",
    "version": 3
   },
   "file_extension": ".py",
   "mimetype": "text/x-python",
   "name": "python",
   "nbconvert_exporter": "python",
   "pygments_lexer": "ipython3",
   "version": "3.7.9"
  }
 },
 "nbformat": 4,
 "nbformat_minor": 4
}
